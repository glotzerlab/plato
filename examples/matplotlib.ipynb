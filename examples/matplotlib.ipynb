{
 "cells": [
  {
   "cell_type": "code",
   "execution_count": null,
   "metadata": {},
   "outputs": [],
   "source": [
    "import plato\n",
    "import plato.draw.matplotlib as draw\n",
    "import numpy as np"
   ]
  },
  {
   "cell_type": "code",
   "execution_count": null,
   "metadata": {
    "scrolled": false
   },
   "outputs": [],
   "source": [
    "np.random.seed(14)\n",
    "positions = np.random.uniform(0, 3, size=(2, 2))\n",
    "colors = np.random.rand(positions.shape[0], 4)\n",
    "colors[:, 3] = 1\n",
    "diameters = np.random.uniform(.5, 1, (positions.shape[0],))\n",
    "\n",
    "thetas = np.linspace(0, 2*np.pi, 6, endpoint=False)\n",
    "vertices = np.array([np.cos(thetas), np.sin(thetas)]).T\n",
    "vertices[::2] -= .1\n",
    "angles = np.random.uniform(0, 2*np.pi, positions.shape[0])\n",
    "\n",
    "prim = draw.Disks(outline=.1, positions=positions, colors=colors, diameters=diameters)\n",
    "prim2 = draw.Polygons(positions=-positions, colors=colors, vertices=vertices, angles=angles, outline=.1)\n",
    "scene = draw.Scene([prim, prim2], zoom=4, features=dict(pan=True))\n",
    "scene.show()"
   ]
  },
  {
   "cell_type": "code",
   "execution_count": null,
   "metadata": {},
   "outputs": [],
   "source": [
    "scene.save('/tmp/test.png')"
   ]
  },
  {
   "cell_type": "code",
   "execution_count": null,
   "metadata": {
    "collapsed": true
   },
   "outputs": [],
   "source": []
  }
 ],
 "metadata": {
  "kernelspec": {
   "display_name": "Python 3",
   "language": "python",
   "name": "python3"
  },
  "language_info": {
   "codemirror_mode": {
    "name": "ipython",
    "version": 3
   },
   "file_extension": ".py",
   "mimetype": "text/x-python",
   "name": "python",
   "nbconvert_exporter": "python",
   "pygments_lexer": "ipython3",
   "version": "3.6.4"
  }
 },
 "nbformat": 4,
 "nbformat_minor": 2
}
