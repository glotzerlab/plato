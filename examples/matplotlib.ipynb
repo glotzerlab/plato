{
 "cells": [
  {
   "cell_type": "code",
   "execution_count": null,
   "metadata": {},
   "outputs": [],
   "source": [
    "import plato\n",
    "import plato.draw.matplotlib as draw\n",
    "import numpy as np"
   ]
  },
  {
   "cell_type": "code",
   "execution_count": null,
   "metadata": {
    "scrolled": false
   },
   "outputs": [],
   "source": [
    "np.random.seed(14)\n",
    "positions = np.random.uniform(0, 3, size=(2, 2))\n",
    "colors = np.random.rand(positions.shape[0], 4)\n",
    "colors[:, 3] = 1\n",
    "diameters = np.random.uniform(.5, 1, (positions.shape[0],))\n",
    "\n",
    "thetas = np.linspace(0, 2*np.pi, 4, endpoint=False) + np.pi/4\n",
    "vertices = np.array([np.cos(thetas), np.sin(thetas)]).T\n",
    "# vertices[::2] -= .1\n",
    "angles = np.random.uniform(0, 2*np.pi, positions.shape[0])\n",
    "angles[:] = 0\n",
    "\n",
    "prim = draw.Disks(outline=.1, positions=positions, colors=colors, diameters=diameters)\n",
    "prim2 = draw.Polygons(positions=-positions, colors=colors, vertices=vertices, angles=angles, \n",
    "                      outline=.1)\n",
    "prim3 = draw.Spheropolygons(positions=-positions, colors=colors, vertices=vertices, angles=angles, \n",
    "                            outline=.1, radius=.2)\n",
    "prim3.positions = prim3.positions + 2\n",
    "scene = draw.Scene([prim, prim2, prim3], zoom=4, features=dict(pan=True, antialiasing=True))\n",
    "scene.show()"
   ]
  },
  {
   "cell_type": "code",
   "execution_count": null,
   "metadata": {},
   "outputs": [],
   "source": [
    "scene.save('/tmp/test.svg')"
   ]
  },
  {
   "cell_type": "code",
   "execution_count": null,
   "metadata": {
    "collapsed": true
   },
   "outputs": [],
   "source": []
  }
 ],
 "metadata": {
  "kernelspec": {
   "display_name": "Python 3",
   "language": "python",
   "name": "python3"
  },
  "language_info": {
   "codemirror_mode": {
    "name": "ipython",
    "version": 3
   },
   "file_extension": ".py",
   "mimetype": "text/x-python",
   "name": "python",
   "nbconvert_exporter": "python",
   "pygments_lexer": "ipython3",
   "version": "3.6.4"
  }
 },
 "nbformat": 4,
 "nbformat_minor": 2
}
