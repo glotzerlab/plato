{
 "cells": [
  {
   "cell_type": "code",
   "execution_count": null,
   "metadata": {},
   "outputs": [],
   "source": [
    "import plato.draw.matplotlib as draw\n",
    "import matplotlib, matplotlib.pyplot as pp\n",
    "import sys; sys.path.append('../test')\n",
    "import test_scenes\n",
    "import IPython\n",
    "import warnings; warnings.simplefilter('ignore')"
   ]
  },
  {
   "cell_type": "code",
   "execution_count": null,
   "metadata": {
    "scrolled": false
   },
   "outputs": [],
   "source": [
    "descriptions = test_scenes.get_described_scenes(draw)\n",
    "\n",
    "for description in descriptions:\n",
    "    IPython.display.display(IPython.display.Markdown(description.markdown))\n",
    "    \n",
    "    scene = description.scene\n",
    "    scene.enable('antialiasing')\n",
    "    IPython.display.display(scene.render()[0])\n",
    "    pp.clf()"
   ]
  },
  {
   "cell_type": "code",
   "execution_count": null,
   "metadata": {},
   "outputs": [],
   "source": []
  }
 ],
 "metadata": {
  "kernelspec": {
   "display_name": "Python 3",
   "language": "python",
   "name": "python3"
  },
  "language_info": {
   "codemirror_mode": {
    "name": "ipython",
    "version": 3
   },
   "file_extension": ".py",
   "mimetype": "text/x-python",
   "name": "python",
   "nbconvert_exporter": "python",
   "pygments_lexer": "ipython3",
   "version": "3.7.3"
  }
 },
 "nbformat": 4,
 "nbformat_minor": 2
}
