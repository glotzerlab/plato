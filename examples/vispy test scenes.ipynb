{
 "cells": [
  {
   "cell_type": "code",
   "execution_count": null,
   "metadata": {
    "collapsed": true
   },
   "outputs": [],
   "source": [
    "import vispy, vispy.app\n",
    "vispy.app.use_app('ipynb_webgl')\n",
    "import plato\n",
    "import plato.draw.vispy as draw\n",
    "import numpy as np\n",
    "import sys; sys.path.append('../test')\n",
    "import test_scenes\n",
    "import IPython"
   ]
  },
  {
   "cell_type": "code",
   "execution_count": null,
   "metadata": {
    "collapsed": true
   },
   "outputs": [],
   "source": [
    "clear_following_script = \"\"\"\n",
    "IPython.notebook.select(IPython.notebook.ncells() - 1, false)\n",
    "IPython.notebook.delete_cells()\n",
    "\"\"\"\n",
    "\n",
    "script_elements = [clear_following_script]\n",
    "\n",
    "new_cell_script = \"\"\"\n",
    "var cell = IPython.notebook.insert_cell_at_bottom()\n",
    "cell.set_text(\"all_scenes[{index}][1].show()\")\"\"\"\n",
    "all_scenes = test_scenes.translate_usable_scenes(draw)\n",
    "\n",
    "for index in range(len(all_scenes)):\n",
    "    script_elements.append(new_cell_script.format(index=index))\n",
    "script_elements.append('IPython.notebook.select_next()')\n",
    "    \n",
    "IPython.display.Javascript('\\n'.join(script_elements))"
   ]
  }
 ],
 "metadata": {
  "kernelspec": {
   "display_name": "Python 3",
   "language": "python",
   "name": "python3"
  },
  "language_info": {
   "codemirror_mode": {
    "name": "ipython",
    "version": 3
   },
   "file_extension": ".py",
   "mimetype": "text/x-python",
   "name": "python",
   "nbconvert_exporter": "python",
   "pygments_lexer": "ipython3",
   "version": "3.6.4"
  }
 },
 "nbformat": 4,
 "nbformat_minor": 2
}
