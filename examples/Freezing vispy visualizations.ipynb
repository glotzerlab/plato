{
 "cells": [
  {
   "cell_type": "markdown",
   "metadata": {},
   "source": [
    "## Overview\n",
    "\n",
    "This notebook shows how to embed a static views of interactive vispy scenes into notebooks after using them."
   ]
  },
  {
   "cell_type": "code",
   "execution_count": null,
   "metadata": {
    "scrolled": false
   },
   "outputs": [],
   "source": [
    "import sys\n",
    "sys.path.append('../test')\n",
    "import test_scenes\n",
    "\n",
    "import plato, plato.draw.vispy as draw\n",
    "\n",
    "test_scenes.colored_spheres().convert(draw).show()"
   ]
  },
  {
   "cell_type": "code",
   "execution_count": null,
   "metadata": {},
   "outputs": [],
   "source": [
    "%%javascript\n",
    "// This snippet automatically exports all vispy canvases in a notebook into a\n",
    "// static form that can be exported to HTML, for example\n",
    "var cells = Jupyter.notebook.get_cells()\n",
    "\n",
    "for(var cellix = 0; cellix < cells.length; ++cellix)\n",
    "{\n",
    "    var cell = cells[cellix]\n",
    "\n",
    "    var new_nodes = []\n",
    "    var output_area = cell.output_area\n",
    "\n",
    "    if(typeof output_area !== 'undefined')\n",
    "    {\n",
    "        var canvases = output_area.element[0].querySelectorAll('canvas')\n",
    "        for(var i = 0; i < canvases.length; ++i)\n",
    "        {\n",
    "            var new_node = document.createElement('img')\n",
    "            new_node.src = canvases[i].toDataURL('image/jpeg')\n",
    "            canvases[i].parentElement.replaceChild(new_node, canvases[i])\n",
    "            new_nodes.push(new_node)\n",
    "        }\n",
    "\n",
    "        for(var outix = 0; outix < output_area.outputs.length; ++outix)\n",
    "        {\n",
    "            var output = output_area.outputs[outix]\n",
    "\n",
    "            if(output.output_type == 'display_data' &&\n",
    "               typeof output.data !== 'undefined' &&\n",
    "               output.data['text/plain'].startsWith('VispyWidget'))\n",
    "            {\n",
    "                var contents = new_nodes.pop(0).outerHTML\n",
    "                output.data = {\n",
    "                    'text/plain': '<embedded image>',\n",
    "                    'text/html': contents}\n",
    "            }\n",
    "        }\n",
    "    }\n",
    "}"
   ]
  },
  {
   "cell_type": "code",
   "execution_count": null,
   "metadata": {},
   "outputs": [],
   "source": []
  }
 ],
 "metadata": {
  "kernelspec": {
   "display_name": "Python 3",
   "language": "python",
   "name": "python3"
  },
  "language_info": {
   "codemirror_mode": {
    "name": "ipython",
    "version": 3
   },
   "file_extension": ".py",
   "mimetype": "text/x-python",
   "name": "python",
   "nbconvert_exporter": "python",
   "pygments_lexer": "ipython3",
   "version": "3.8.1"
  }
 },
 "nbformat": 4,
 "nbformat_minor": 2
}
