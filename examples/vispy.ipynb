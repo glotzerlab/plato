{
 "cells": [
  {
   "cell_type": "code",
   "execution_count": null,
   "metadata": {
    "collapsed": true
   },
   "outputs": [],
   "source": [
    "import vispy, vispy.app\n",
    "vispy.app.use_app('ipynb_webgl')\n",
    "import plato\n",
    "import plato.draw.vispy as draw\n",
    "import numpy as np"
   ]
  },
  {
   "cell_type": "code",
   "execution_count": null,
   "metadata": {},
   "outputs": [],
   "source": [
    "np.random.seed(13)\n",
    "\n",
    "positions = np.random.uniform(0, 3, (2, 2))\n",
    "colors = np.random.rand(positions.shape[0], 4)\n",
    "orientations = np.random.rand(2, 4)\n",
    "orientations[:, 1:3] = 0\n",
    "orientations /= np.linalg.norm(orientations, axis=-1, keepdims=True)\n",
    "\n",
    "thetas = np.linspace(0, 2*np.pi, 5, endpoint=False)\n",
    "vertices = np.array([np.cos(thetas), np.sin(thetas)]).T\n",
    "\n",
    "prim1 = draw.Arrows2D(positions=positions, colors=colors*.5, orientations=orientations, magnitudes=[.25, .5])\n",
    "prim1.vertices = prim1.vertices - (-.5, 0)\n",
    "prim2 = draw.Disks(outline=.05, positions=positions, colors=colors, diameters=np.ones((len(positions),)))\n",
    "prim3 = draw.Polygons(positions=-positions, colors=colors, vertices=vertices, outline=.05, \n",
    "                      orientations=orientations)\n",
    "prim4 = draw.Spheropolygons(positions=-positions, colors=colors, vertices=vertices, outline=.05, \n",
    "                      orientations=orientations)\n",
    "prim4.radius = .1\n",
    "prim4.positions = prim3.positions + (3, 2)\n",
    "\n",
    "\n",
    "scene = draw.Scene([prim1, prim2, prim3, prim4], zoom=4, features=dict(pan=True))\n",
    "scene.show()"
   ]
  },
  {
   "cell_type": "code",
   "execution_count": null,
   "metadata": {},
   "outputs": [],
   "source": [
    "np.random.seed(13)\n",
    "\n",
    "positions = np.random.uniform(-3, 3, (32, 2))\n",
    "colors = np.random.rand(positions.shape[0], 4)\n",
    "invbox = np.linalg.inv([[6, 0], [0, 6]])*2\n",
    "\n",
    "prim = draw.Voronoi(positions=positions, colors=colors, clip_extent=invbox)\n",
    "prim2 = draw.Disks(positions=positions, colors=colors, \n",
    "                   diameters=np.ones((positions.shape[0],))*.5, outline=.125)\n",
    "\n",
    "scene = draw.Scene([prim, prim2], zoom=4, features=dict(pan=True))\n",
    "scene.show()"
   ]
  },
  {
   "cell_type": "code",
   "execution_count": null,
   "metadata": {},
   "outputs": [],
   "source": [
    "np.random.seed(15)\n",
    "positions = np.random.uniform(0, 3, (3, 3))\n",
    "colors = np.random.rand(positions.shape[0], 4)\n",
    "orientations = np.random.rand(positions.shape[0], 4)\n",
    "\n",
    "vertices = np.random.rand(12, 3)\n",
    "vertices -= np.mean(vertices, axis=0, keepdims=True)\n",
    "diameters = np.random.rand(positions.shape[0])\n",
    "\n",
    "prim = draw.ConvexSpheropolyhedra(positions=positions, colors=colors,\n",
    "                            orientations=orientations, vertices=vertices, radius=.1)\n",
    "prim2 = draw.ConvexPolyhedra.copy(prim)\n",
    "prim2.positions = (-1, -1, -1) - prim2.positions\n",
    "prim3 = draw.Spheres.copy(prim)\n",
    "prim3.diameters = diameters\n",
    "prim3.positions = (1, -1, 1) - prim.positions\n",
    "\n",
    "prim4 = draw.Lines(start_points=prim.positions, end_points=prim2.positions,\n",
    "                colors=np.random.rand(prim.positions.shape[0], 4), widths=np.ones((prim.positions.shape[0],))*.1)\n",
    "\n",
    "(vertices, faces) = plato.geometry.convexHull(vertices)\n",
    "vertices -= (-1, 1, -1)\n",
    "indices = list(plato.geometry.fanTriangleIndices(faces))\n",
    "colors = np.random.rand(len(vertices), 4)\n",
    "colors[:] = .5\n",
    "prim5 = draw.Mesh(vertices=vertices, indices=indices, colors=colors)\n",
    "\n",
    "prims = [prim, prim2, prim3, prim4, prim5]\n",
    "scene = draw.Scene(prims, zoom=5, clip_scale=10,\n",
    "                   features=dict(ambient_light=.25, directional_light=(-.1, -.15, -1)))\n",
    "    \n",
    "scene.show()"
   ]
  },
  {
   "cell_type": "code",
   "execution_count": null,
   "metadata": {},
   "outputs": [],
   "source": [
    "np.random.seed(14)\n",
    "positions = np.random.uniform(-3, 3, (128, 3))\n",
    "\n",
    "prim = draw.SpherePoints(points=positions, blur=10, intensity=1e3)\n",
    "scene = draw.Scene(prim, zoom=10,\n",
    "                   features=dict(ambient_light=.25, directional_light=dict(lights=(-.1, -.15, -1)),\n",
    "                                additive_rendering=True))\n",
    "    \n",
    "scene.show()"
   ]
  },
  {
   "cell_type": "code",
   "execution_count": null,
   "metadata": {
    "collapsed": true
   },
   "outputs": [],
   "source": []
  }
 ],
 "metadata": {
  "kernelspec": {
   "display_name": "Python 3",
   "language": "python",
   "name": "python3"
  },
  "language_info": {
   "codemirror_mode": {
    "name": "ipython",
    "version": 3
   },
   "file_extension": ".py",
   "mimetype": "text/x-python",
   "name": "python",
   "nbconvert_exporter": "python",
   "pygments_lexer": "ipython3",
   "version": "3.6.4"
  }
 },
 "nbformat": 4,
 "nbformat_minor": 2
}
